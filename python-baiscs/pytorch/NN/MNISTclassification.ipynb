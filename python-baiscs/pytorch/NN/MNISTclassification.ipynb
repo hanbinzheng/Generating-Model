{
 "cells": [
  {
   "cell_type": "markdown",
   "id": "b4f7c49b",
   "metadata": {},
   "source": [
    "# The Minimal Nerual Network Training Task\n",
    "\n",
    "In this file, I will try to classify the MNIST with MLP neural network, to comprehensively experience the flow of training nerual network"
   ]
  },
  {
   "cell_type": "markdown",
   "id": "d4c8fc5b",
   "metadata": {},
   "source": [
    "### Part 0: Make Basic Preparation"
   ]
  },
  {
   "cell_type": "code",
   "execution_count": 18,
   "id": "4c5c21a3",
   "metadata": {},
   "outputs": [
    {
     "name": "stdout",
     "output_type": "stream",
     "text": [
      "Successfully imported, and the device is cuda\n",
      "Torch version:  2.5.1+cu121\n",
      "Torchvision version:  0.20.1+cu121\n",
      "CUDA available:  True\n"
     ]
    }
   ],
   "source": [
    "# Step0: make basic preparation\n",
    "\n",
    "import numpy as np\n",
    "import matplotlib.pyplot as plt\n",
    "import torch\n",
    "import torchvision\n",
    "import tqdm as tqdm\n",
    "\n",
    "device = torch.device(\"cuda\" if torch.cuda.is_available() else \"cpu\")\n",
    "print(f\"Successfully imported, and the device is {device}\")\n",
    "\n",
    "print(\"Torch version: \", torch.__version__)\n",
    "print(\"Torchvision version: \", torchvision.__version__)\n",
    "print(\"CUDA available: \",torch.cuda.is_available())"
   ]
  },
  {
   "cell_type": "markdown",
   "id": "cc46201a",
   "metadata": {},
   "source": [
    "### Part 1: Load in the Datasets"
   ]
  },
  {
   "cell_type": "code",
   "execution_count": 19,
   "id": "7ea3a229",
   "metadata": {},
   "outputs": [],
   "source": [
    "# This part is to load in the data\n",
    "\n",
    "from torchvision import datasets, transforms    # datasets: store the toy example, tranforms: turn img into sth like tensor\n",
    "from torch.utils.data import DataLoader         # DataLoader: turn processed data into iterable batches\n",
    "\n",
    "# Define an object to wrap the method up\n",
    "transform = transforms.ToTensor()\n",
    "\n",
    "# load in the datasets \n",
    "train_data = datasets.MNIST(\n",
    "    root = \"./data\",\n",
    "    train = True,\n",
    "    download = True,\n",
    "    transform = transform\n",
    ")\n",
    "\n",
    "test_data = datasets.MNIST(\n",
    "    root = \"./data\",\n",
    "    train = False,\n",
    "    download = True,\n",
    "    transform = transform\n",
    ")\n",
    "\n",
    "# wrap the datasets into iterable batches\n",
    "train_loader = DataLoader(\n",
    "    train_data,\n",
    "    batch_size = 64,\n",
    "    shuffle = True\n",
    ")\n",
    "\n",
    "test_loader = DataLoader(\n",
    "    test_data,\n",
    "    batch_size = 64,\n",
    "    shuffle = False\n",
    ")"
   ]
  },
  {
   "cell_type": "code",
   "execution_count": 20,
   "id": "4e2eb764",
   "metadata": {},
   "outputs": [
    {
     "name": "stdout",
     "output_type": "stream",
     "text": [
      "Type of image: <class 'torch.Tensor'>, torch.Size([1, 28, 28])\n",
      "Type of label: <class 'int'>\n"
     ]
    },
    {
     "data": {
      "image/png": "[encoded data removed]",
      "text/plain": [
       "<Figure size 640x480 with 1 Axes>"
      ]
     },
     "metadata": {},
     "output_type": "display_data"
    },
    {
     "name": "stdout",
     "output_type": "stream",
     "text": [
      "The index is: 0\n",
      "The shape of x is: torch.Size([64, 1, 28, 28])\n",
      "The shape of y is: torch.Size([64])\n",
      "[9, 5, 3, 1, 2, 0, 0, 8, 6, 0, 6, 9, 8, 8, 1, 0, 3, 0, 9, 3, 1, 1, 9, 3, 1, 7, 0, 1, 9, 7, 7, 9, 4, 6, 1, 1, 0, 2, 1, 7, 3, 8, 8, 1, 5, 9, 3, 2, 0, 8, 9, 2, 1, 1, 6, 1, 4, 4, 3, 7, 3, 4, 5, 4]\n"
     ]
    },
    {
     "data": {
      "image/png": "[encoded data removed]",
      "text/plain": [
       "<Figure size 640x480 with 1 Axes>"
      ]
     },
     "metadata": {},
     "output_type": "display_data"
    }
   ],
   "source": [
    "# This cell is just a practice to have a deeper understanding of the previous contents\n",
    "# Feel free to skip this part\n",
    "\n",
    "img, label = train_data[0]\n",
    "print(f\"Type of image: {type(img)}, {img.shape}\")\n",
    "print(f\"Type of label: {type(label)}\")\n",
    "\n",
    "# draw the first image\n",
    "plt.imshow(img.squeeze().numpy(), cmap = \"gray\")\n",
    "plt.title(f\"Label: {label}\")\n",
    "plt.show()\n",
    "\n",
    "\n",
    "for index, (x, y) in enumerate(train_loader):\n",
    "    print(f\"The index is: {index}\")\n",
    "    print(f\"The shape of x is: {x.shape}\")\n",
    "    print(f\"The shape of y is: {y.shape}\")\n",
    "    print(y.tolist())\n",
    "\n",
    "    img, label = x[0], y[0]\n",
    "\n",
    "    plt.imshow(img.squeeze().numpy(), cmap = \"gray\")\n",
    "    plt.title(f\"Lanel: {label}\")\n",
    "    plt.show()\n",
    "\n",
    "    break"
   ]
  },
  {
   "cell_type": "markdown",
   "id": "ec9a246e",
   "metadata": {},
   "source": [
    "### Part 2: Define the MLP"
   ]
  },
  {
   "cell_type": "code",
   "execution_count": null,
   "id": "7ced71e5",
   "metadata": {},
   "outputs": [],
   "source": [
    "# This part is to define the MLP\n",
    "\n"
   ]
  }
 ],
 "metadata": {
  "kernelspec": {
   "display_name": ".venv",
   "language": "python",
   "name": "python3"
  },
  "language_info": {
   "codemirror_mode": {
    "name": "ipython",
    "version": 3
   },
   "file_extension": ".py",
   "mimetype": "text/x-python",
   "name": "python",
   "nbconvert_exporter": "python",
   "pygments_lexer": "ipython3",
   "version": "3.12.3"
  }
 },
 "nbformat": 4,
 "nbformat_minor": 5
}

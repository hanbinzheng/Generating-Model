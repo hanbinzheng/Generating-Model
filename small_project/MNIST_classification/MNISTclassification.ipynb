{
 "cells": [
  {
   "cell_type": "markdown",
   "id": "b4f7c49b",
   "metadata": {},
   "source": [
    "# The Minimal Nerual Network Training Task\n",
    "\n",
    "In this file, I will try to classify the MNIST with MLP neural network, to comprehensively experience the flow of training nerual network"
   ]
  },
  {
   "cell_type": "markdown",
   "id": "d4c8fc5b",
   "metadata": {},
   "source": [
    "### Part 0: Make Basic Preparation"
   ]
  },
  {
   "cell_type": "code",
   "execution_count": 1,
   "id": "4c5c21a3",
   "metadata": {},
   "outputs": [
    {
     "name": "stdout",
     "output_type": "stream",
     "text": [
      "Successfully imported, and the device is cuda\n",
      "Torch version:  2.5.1+cu121\n",
      "Torchvision version:  0.20.1+cu121\n",
      "CUDA available:  True\n"
     ]
    }
   ],
   "source": [
    "# Step0: make basic preparation\n",
    "\n",
    "import numpy as np\n",
    "import matplotlib.pyplot as plt\n",
    "import torch\n",
    "import torchvision\n",
    "import tqdm as tqdm\n",
    "\n",
    "device = torch.device(\"cuda\" if torch.cuda.is_available() else \"cpu\")\n",
    "print(f\"Successfully imported, and the device is {device}\")\n",
    "\n",
    "print(\"Torch version: \", torch.__version__)\n",
    "print(\"Torchvision version: \", torchvision.__version__)\n",
    "print(\"CUDA available: \",torch.cuda.is_available())"
   ]
  },
  {
   "cell_type": "markdown",
   "id": "cc46201a",
   "metadata": {},
   "source": [
    "### Part 1: Load in the Datasets"
   ]
  },
  {
   "cell_type": "code",
   "execution_count": 2,
   "id": "7ea3a229",
   "metadata": {},
   "outputs": [],
   "source": [
    "# This part is to load in the data\n",
    "\n",
    "from torchvision import datasets, transforms    # datasets: store the toy example, tranforms: turn img into sth like tensor\n",
    "from torch.utils.data import DataLoader         # DataLoader: turn processed data into iterable batches\n",
    "\n",
    "# Define an object to wrap the method up\n",
    "transform = transforms.ToTensor()\n",
    "\n",
    "# load in the datasets \n",
    "train_data = datasets.MNIST(\n",
    "    root = \"./data\",\n",
    "    train = True,\n",
    "    download = True,\n",
    "    transform = transform\n",
    ")\n",
    "\n",
    "test_data = datasets.MNIST(\n",
    "    root = \"./data\",\n",
    "    train = False,\n",
    "    download = True,\n",
    "    transform = transform\n",
    ")\n",
    "\n",
    "# wrap the datasets into iterable batches\n",
    "train_loader = DataLoader(\n",
    "    train_data,\n",
    "    batch_size = 64,\n",
    "    shuffle = True\n",
    ")\n",
    "\n",
    "test_loader = DataLoader(\n",
    "    test_data,\n",
    "    batch_size = 64,\n",
    "    shuffle = False\n",
    ")"
   ]
  },
  {
   "cell_type": "code",
   "execution_count": 3,
   "id": "4e2eb764",
   "metadata": {},
   "outputs": [
    {
     "name": "stdout",
     "output_type": "stream",
     "text": [
      "Type of image: <class 'torch.Tensor'>, torch.Size([1, 28, 28])\n",
      "Type of label: <class 'int'>\n"
     ]
    },
    {
     "data": {
      "image/png": "[encoded data removed]",
      "text/plain": [
       "<Figure size 640x480 with 1 Axes>"
      ]
     },
     "metadata": {},
     "output_type": "display_data"
    },
    {
     "name": "stdout",
     "output_type": "stream",
     "text": [
      "The index is: 0\n",
      "The shape of x is: torch.Size([64, 1, 28, 28])\n",
      "The shape of y is: torch.Size([64])\n",
      "[3, 2, 5, 6, 0, 4, 7, 0, 3, 7, 3, 7, 4, 3, 6, 0, 2, 1, 9, 3, 6, 0, 5, 6, 9, 8, 7, 0, 8, 5, 7, 5, 4, 0, 3, 6, 4, 0, 4, 3, 1, 3, 6, 4, 6, 0, 7, 7, 8, 2, 3, 9, 7, 3, 9, 6, 3, 8, 9, 9, 7, 8, 0, 0]\n"
     ]
    },
    {
     "data": {
      "image/png": "[encoded data removed]",
      "text/plain": [
       "<Figure size 640x480 with 1 Axes>"
      ]
     },
     "metadata": {},
     "output_type": "display_data"
    }
   ],
   "source": [
    "# This cell is just a practice to have a deeper understanding of the previous contents\n",
    "# Feel free to skip this cell\n",
    "\n",
    "img, label = train_data[0]\n",
    "print(f\"Type of image: {type(img)}, {img.shape}\")\n",
    "print(f\"Type of label: {type(label)}\")\n",
    "\n",
    "# draw the first image\n",
    "plt.imshow(img.squeeze().numpy(), cmap = \"gray\")\n",
    "plt.title(f\"Label: {label}\")\n",
    "plt.show()\n",
    "\n",
    "\n",
    "for index, (x, y) in enumerate(train_loader):\n",
    "    print(f\"The index is: {index}\")\n",
    "    print(f\"The shape of x is: {x.shape}\")\n",
    "    print(f\"The shape of y is: {y.shape}\")\n",
    "    print(y.tolist())\n",
    "\n",
    "    img, label = x[0], y[0]\n",
    "\n",
    "    plt.imshow(img.squeeze().numpy(), cmap = \"gray\")\n",
    "    plt.title(f\"Lanel: {label}\")\n",
    "    plt.show()\n",
    "\n",
    "    break"
   ]
  },
  {
   "cell_type": "markdown",
   "id": "ec9a246e",
   "metadata": {},
   "source": [
    "### Part 2: Define the MLP"
   ]
  },
  {
   "cell_type": "code",
   "execution_count": 4,
   "id": "7ced71e5",
   "metadata": {},
   "outputs": [],
   "source": [
    "# This part is to define the MLP\n",
    "\n",
    "import torch.nn as nn\n",
    "from torch.nn import functional as F\n",
    "\n",
    "class MLP(nn.Module):\n",
    "    def __init__(self):\n",
    "        super().__init__()\n",
    "\n",
    "        self.fc1 = nn.Linear(784, 128)\n",
    "        self.fc2 = nn.Linear(128, 64)\n",
    "        self.fc3 = nn.Linear(64, 10)\n",
    "\n",
    "    def forward(self, x: torch.Tensor):\n",
    "        x = x.view(x.size(0), -1)       # shape(batch_size, dim)\n",
    "\n",
    "        x = F.relu(self.fc1(x))\n",
    "        x = F.relu(self.fc2(x))\n",
    "        x = self.fc3(x)\n",
    "        return x"
   ]
  },
  {
   "cell_type": "code",
   "execution_count": 5,
   "id": "221b66cc",
   "metadata": {},
   "outputs": [
    {
     "name": "stdout",
     "output_type": "stream",
     "text": [
      "The shape of the result is:  torch.Size([64, 10])\n",
      "torch.Size([128, 784])\n",
      "torch.Size([128])\n",
      "torch.Size([64, 128])\n",
      "torch.Size([64])\n",
      "torch.Size([10, 64])\n",
      "torch.Size([10])\n",
      "<bound method Module.parameters of MLP(\n",
      "  (fc1): Linear(in_features=784, out_features=128, bias=True)\n",
      "  (fc2): Linear(in_features=128, out_features=64, bias=True)\n",
      "  (fc3): Linear(in_features=64, out_features=10, bias=True)\n",
      ")>\n"
     ]
    }
   ],
   "source": [
    "# This is just the test code for previously-defined MLP class\n",
    "# Feel free to skip this cell\n",
    "\n",
    "model = MLP()\n",
    "test_MLP_x = torch.randn(64, 1, 28, 28)     # a batch\n",
    "test_result = model(test_MLP_x)\n",
    "\n",
    "print(\"The shape of the result is: \", test_result.shape)\n",
    "\n",
    "for parameter in model.parameters():\n",
    "    print(parameter.shape)\n",
    "\n",
    "print(model.parameters)"
   ]
  },
  {
   "cell_type": "markdown",
   "id": "b3c64cf2",
   "metadata": {},
   "source": [
    "### Part 3: Define Loss Function and Optimizer"
   ]
  },
  {
   "cell_type": "code",
   "execution_count": 6,
   "id": "09a86f53",
   "metadata": {},
   "outputs": [],
   "source": [
    "# Define the loss function (cross entropy) and the optimizer (Adam)\n",
    "\n",
    "model = MLP().to(device)\n",
    "loss_func = nn.CrossEntropyLoss()\n",
    "optimizer = torch.optim.Adam(model.parameters(), lr = 1e-3)"
   ]
  },
  {
   "cell_type": "code",
   "execution_count": 7,
   "id": "9dc062b7",
   "metadata": {},
   "outputs": [
    {
     "name": "stdout",
     "output_type": "stream",
     "text": [
      "Loss:  tensor(2.2806, device='cuda:0', grad_fn=<NllLossBackward0>)\n",
      "Loss:  tensor(2.2808, device='cuda:0', grad_fn=<NllLossBackward0>)\n",
      "Loss:  tensor(2.2743, device='cuda:0', grad_fn=<NllLossBackward0>)\n",
      "Loss:  tensor(2.2639, device='cuda:0', grad_fn=<NllLossBackward0>)\n",
      "Loss:  tensor(2.2337, device='cuda:0', grad_fn=<NllLossBackward0>)\n",
      "Loss:  tensor(2.1822, device='cuda:0', grad_fn=<NllLossBackward0>)\n",
      "Loss:  tensor(2.2011, device='cuda:0', grad_fn=<NllLossBackward0>)\n",
      "Loss:  tensor(2.1677, device='cuda:0', grad_fn=<NllLossBackward0>)\n",
      "Loss:  tensor(2.0754, device='cuda:0', grad_fn=<NllLossBackward0>)\n",
      "Loss:  tensor(2.0717, device='cuda:0', grad_fn=<NllLossBackward0>)\n",
      "Loss:  tensor(2.0556, device='cuda:0', grad_fn=<NllLossBackward0>)\n",
      "Loss:  tensor(2.0493, device='cuda:0', grad_fn=<NllLossBackward0>)\n",
      "Loss:  tensor(2.0238, device='cuda:0', grad_fn=<NllLossBackward0>)\n",
      "Loss:  tensor(1.9468, device='cuda:0', grad_fn=<NllLossBackward0>)\n",
      "Loss:  tensor(1.9567, device='cuda:0', grad_fn=<NllLossBackward0>)\n",
      "Loss:  tensor(1.7082, device='cuda:0', grad_fn=<NllLossBackward0>)\n",
      "Loss:  tensor(1.8698, device='cuda:0', grad_fn=<NllLossBackward0>)\n",
      "Loss:  tensor(1.7905, device='cuda:0', grad_fn=<NllLossBackward0>)\n",
      "Loss:  tensor(1.6411, device='cuda:0', grad_fn=<NllLossBackward0>)\n",
      "Loss:  tensor(1.6971, device='cuda:0', grad_fn=<NllLossBackward0>)\n"
     ]
    }
   ],
   "source": [
    "# This part is just for testing\n",
    "# Feel free to skip this\n",
    "\n",
    "i = 0\n",
    "for x, y in train_loader:\n",
    "    x, y = x.to(device), y.to(device)\n",
    "    y_hat = model(x)\n",
    "    loss = loss_func(y_hat, y)\n",
    "    print(\"Loss: \", loss)\n",
    "\n",
    "    optimizer.zero_grad()\n",
    "    loss.backward()\n",
    "    optimizer.step()\n",
    "\n",
    "    i += 1\n",
    "    if i == 20:\n",
    "        break"
   ]
  },
  {
   "cell_type": "code",
   "execution_count": 8,
   "id": "a710255d",
   "metadata": {},
   "outputs": [
    {
     "name": "stdout",
     "output_type": "stream",
     "text": [
      "The type of model.parmaeters() is:\n",
      " <class 'generator'> \n",
      "\n",
      "p in model.parameters()\n",
      "The type of p is:\n",
      " <class 'torch.nn.parameter.Parameter'> \n",
      "\n"
     ]
    }
   ],
   "source": [
    "# This is the break down of underlying details of the previous pribciples.\n",
    "# I think it is important to understand all these things\n",
    "\n",
    "# understand the type and ask chat gpt what types are they\n",
    "print(\"The type of model.parmaeters() is:\\n\", type(model.parameters()), \"\\n\")\n",
    "for p in model.parameters():\n",
    "    print(\"p in model.parameters()\\nThe type of p is:\\n\", type(p), \"\\n\")\n",
    "    break\n",
    "\n"
   ]
  },
  {
   "cell_type": "markdown",
   "id": "9ab2e32a",
   "metadata": {},
   "source": [
    "### Part 4: Train and Evaluate the Loss Function"
   ]
  },
  {
   "cell_type": "code",
   "execution_count": 9,
   "id": "438aff4a",
   "metadata": {},
   "outputs": [
    {
     "name": "stdout",
     "output_type": "stream",
     "text": [
      "Epoch 1: avg train loss = 0.3130\n",
      "Epoch 2: avg train loss = 0.1478\n",
      "Epoch 3: avg train loss = 0.0994\n",
      "Epoch 4: avg train loss = 0.0737\n",
      "Epoch 5: avg train loss = 0.0581\n",
      "Epoch 6: avg train loss = 0.0464\n",
      "Epoch 7: avg train loss = 0.0376\n",
      "Epoch 8: avg train loss = 0.0322\n",
      "Epoch 9: avg train loss = 0.0260\n",
      "Epoch 10: avg train loss = 0.0226\n",
      "Epoch 11: avg train loss = 0.0193\n",
      "Epoch 12: avg train loss = 0.0164\n",
      "Epoch 13: avg train loss = 0.0154\n",
      "Epoch 14: avg train loss = 0.0110\n",
      "Epoch 15: avg train loss = 0.0118\n",
      "Epoch 16: avg train loss = 0.0130\n",
      "Epoch 17: avg train loss = 0.0091\n",
      "Epoch 18: avg train loss = 0.0097\n",
      "Epoch 19: avg train loss = 0.0101\n",
      "Epoch 20: avg train loss = 0.0074\n",
      "Epoch 21: avg train loss = 0.0077\n",
      "Epoch 22: avg train loss = 0.0095\n",
      "Epoch 23: avg train loss = 0.0080\n",
      "Epoch 24: avg train loss = 0.0071\n",
      "Epoch 25: avg train loss = 0.0080\n",
      "Epoch 26: avg train loss = 0.0072\n",
      "Epoch 27: avg train loss = 0.0077\n",
      "Epoch 28: avg train loss = 0.0054\n",
      "Epoch 29: avg train loss = 0.0061\n",
      "Epoch 30: avg train loss = 0.0065\n",
      "Epoch 31: avg train loss = 0.0062\n",
      "Epoch 32: avg train loss = 0.0057\n",
      "Epoch 33: avg train loss = 0.0054\n",
      "Epoch 34: avg train loss = 0.0064\n",
      "Epoch 35: avg train loss = 0.0063\n",
      "Epoch 36: avg train loss = 0.0039\n",
      "Epoch 37: avg train loss = 0.0069\n",
      "Epoch 38: avg train loss = 0.0069\n",
      "Epoch 39: avg train loss = 0.0051\n",
      "Epoch 40: avg train loss = 0.0053\n",
      "Epoch 41: avg train loss = 0.0056\n",
      "Epoch 42: avg train loss = 0.0070\n",
      "Epoch 43: avg train loss = 0.0037\n",
      "Epoch 44: avg train loss = 0.0044\n",
      "Epoch 45: avg train loss = 0.0061\n",
      "Epoch 46: avg train loss = 0.0039\n",
      "Epoch 47: avg train loss = 0.0047\n",
      "Epoch 48: avg train loss = 0.0045\n",
      "Epoch 49: avg train loss = 0.0047\n",
      "Epoch 50: avg train loss = 0.0041\n"
     ]
    }
   ],
   "source": [
    "num_epochs = 50\n",
    "train_losses = []\n",
    "model = model.to(device)\n",
    "\n",
    "for epoch in range(num_epochs):\n",
    "    model.train()       # enable sth like Dropout, BN\n",
    "    total_loss = 0\n",
    "\n",
    "    for x, y in train_loader:\n",
    "        x, y = x.to(device), y.to(device)\n",
    "\n",
    "        y_hat = model(x)\n",
    "        loss = loss_func(y_hat, y)\n",
    "\n",
    "        optimizer.zero_grad()\n",
    "        loss.backward()\n",
    "        optimizer.step()\n",
    "\n",
    "        total_loss += loss\n",
    "\n",
    "    avg_loss = total_loss / len(train_loader)\n",
    "    train_losses.append(avg_loss.item())\n",
    "    print(f\"Epoch {epoch+1}: avg train loss = {avg_loss:.4f}\")\n"
   ]
  },
  {
   "cell_type": "code",
   "execution_count": 10,
   "id": "cced2828",
   "metadata": {},
   "outputs": [],
   "source": [
    "def evaluate(model, data_loader):\n",
    "    model.eval()  # 关闭 Dropout / BN 等\n",
    "    correct = 0\n",
    "    total = 0\n",
    "\n",
    "    with torch.no_grad():\n",
    "        for x, y in data_loader:\n",
    "            x, y = x.to(device), y.to(device)\n",
    "            y_hat = model(x)\n",
    "            preds = torch.argmax(y_hat, dim=1)\n",
    "            correct += (preds == y).sum().item()\n",
    "            total += y.size(0)\n",
    "\n",
    "    acc = correct / total\n",
    "    return acc"
   ]
  },
  {
   "cell_type": "code",
   "execution_count": 11,
   "id": "b9c252be",
   "metadata": {},
   "outputs": [
    {
     "name": "stdout",
     "output_type": "stream",
     "text": [
      "Test accuracy: 0.9777\n"
     ]
    }
   ],
   "source": [
    "test_acc = evaluate(model, test_loader)\n",
    "print(f\"Test accuracy: {test_acc:.4f}\")"
   ]
  },
  {
   "cell_type": "code",
   "execution_count": 12,
   "id": "a54d52de",
   "metadata": {},
   "outputs": [
    {
     "data": {
      "image/png": "[encoded data removed]",
      "text/plain": [
       "<Figure size 640x480 with 1 Axes>"
      ]
     },
     "metadata": {},
     "output_type": "display_data"
    }
   ],
   "source": [
    "plt.plot(range(1, num_epochs + 1), train_losses, marker='o')\n",
    "plt.xlabel('Epoch')\n",
    "plt.ylabel('Train Loss')\n",
    "plt.title('Training Loss Curve')\n",
    "plt.grid(True)\n",
    "\n",
    "# 保存图像（高分辨率）\n",
    "plt.savefig(\"train_loss_curve.png\", dpi=300, bbox_inches=\"tight\")\n",
    "\n",
    "plt.show()\n",
    "\n",
    "torch.save(model.state_dict(), \"model.pth\")"
   ]
  },
  {
   "cell_type": "code",
   "execution_count": 13,
   "id": "0bf9b5a1",
   "metadata": {},
   "outputs": [],
   "source": [
    "import os\n",
    "\n",
    "# 创建保存结果的目录\n",
    "os.makedirs(\"test_results\", exist_ok=True)\n",
    "\n",
    "max_errors_to_save = 1000\n",
    "error_saved = 0\n",
    "\n",
    "with open(\"test_results/test.result\", \"w\") as f:\n",
    "    model.eval()\n",
    "    with torch.no_grad():\n",
    "        for idx, (x, y) in enumerate(test_loader):\n",
    "            x, y = x.to(device), y.to(device)\n",
    "            y_hat = model(x)\n",
    "            preds = torch.argmax(y_hat, dim=1)\n",
    "\n",
    "            for i in range(x.size(0)):\n",
    "                pred = preds[i].item()\n",
    "                true = y[i].item()\n",
    "                correct = pred == true\n",
    "\n",
    "                if not correct:\n",
    "                    img = x[i].cpu().squeeze().numpy()\n",
    "                    plt.imshow(img, cmap=\"gray\")\n",
    "                    plt.axis(\"off\")\n",
    "\n",
    "                    # 用红字写上预测和真实值\n",
    "                    plt.title(f\"Pred: {pred} | True: {true}\", fontsize=12, color='red')\n",
    "\n",
    "                    filename = f\"pred={pred}_true={true}_False_{idx * x.size(0) + i}.png\"\n",
    "                    plt.savefig(\n",
    "                        f\"test_results/{filename}\",\n",
    "                        bbox_inches='tight',\n",
    "                        dpi=300\n",
    "                    )\n",
    "                    plt.close()\n",
    "\n",
    "                    f.write(f\"{idx * x.size(0) + i}: pred={pred}, true={true}, correct={correct}, saved={filename}\\n\")\n",
    "                    error_saved += 1\n",
    "\n",
    "                    if error_saved >= max_errors_to_save:\n",
    "                        break\n",
    "            if error_saved >= max_errors_to_save:\n",
    "                break"
   ]
  },
  {
   "cell_type": "code",
   "execution_count": 16,
   "id": "16963e42",
   "metadata": {},
   "outputs": [],
   "source": [
    "import seaborn as sns\n",
    "import torch\n",
    "import matplotlib.pyplot as plt\n",
    "from sklearn.metrics import confusion_matrix\n",
    "import numpy as np\n",
    "\n",
    "# 收集所有预测和真实值\n",
    "all_preds = []\n",
    "all_labels = []\n",
    "\n",
    "model.eval()\n",
    "with torch.no_grad():\n",
    "    for x, y in test_loader:\n",
    "        x, y = x.to(device), y.to(device)\n",
    "        y_hat = model(x)\n",
    "        preds = torch.argmax(y_hat, dim=1)\n",
    "\n",
    "        all_preds.extend(preds.cpu().numpy())\n",
    "        all_labels.extend(y.cpu().numpy())\n",
    "\n",
    "# 生成混淆矩阵\n",
    "cm = confusion_matrix(all_labels, all_preds)\n",
    "plt.figure(figsize=(8, 6))\n",
    "sns.heatmap(cm, annot=True, fmt=\"d\", cmap=\"Blues\", xticklabels=range(10), yticklabels=range(10))\n",
    "plt.xlabel(\"Predicted\")\n",
    "plt.ylabel(\"True\")\n",
    "plt.title(\"Confusion Matrix\")\n",
    "plt.savefig(\"test_results/confusion_matrix.png\", dpi=300)\n",
    "plt.close()"
   ]
  },
  {
   "cell_type": "code",
   "execution_count": null,
   "id": "7d3d7683",
   "metadata": {},
   "outputs": [],
   "source": []
  }
 ],
 "metadata": {
  "kernelspec": {
   "display_name": ".venv",
   "language": "python",
   "name": "python3"
  },
  "language_info": {
   "codemirror_mode": {
    "name": "ipython",
    "version": 3
   },
   "file_extension": ".py",
   "mimetype": "text/x-python",
   "name": "python",
   "nbconvert_exporter": "python",
   "pygments_lexer": "ipython3",
   "version": "3.12.3"
  }
 },
 "nbformat": 4,
 "nbformat_minor": 5
}

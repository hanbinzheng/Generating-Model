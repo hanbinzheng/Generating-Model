{
 "cells": [
  {
   "cell_type": "code",
   "execution_count": 67,
   "id": "5629107d-954e-4240-80d1-cf82ac34532e",
   "metadata": {},
   "outputs": [
    {
     "name": "stdout",
     "output_type": "stream",
     "text": [
      "<class 'torch.device'> cpu\n"
     ]
    }
   ],
   "source": [
    "# The basic thing\n",
    "import math\n",
    "import numpy as np\n",
    "from matplotlib import pyplot as plt\n",
    "from matplotlib.axes._axes import Axes\n",
    "\n",
    "# The class thing\n",
    "from abc import ABC, abstractmethod\n",
    "from typing import Optional\n",
    "import seaborn as sns\n",
    "\n",
    "# The pytorch \n",
    "import torch\n",
    "import torch.distributions as D\n",
    "from torch.func import vmap, jacrev\n",
    "\n",
    "from tqdm import tqdm\n",
    "\n",
    "# The device\n",
    "device = torch.device('cuda' if torch.cuda.is_available() else 'cpu')\n",
    "print(type(device), device)"
   ]
  },
  {
   "cell_type": "code",
   "execution_count": 69,
   "id": "270d7ca5-a170-452d-92d3-f70c8bcfee56",
   "metadata": {},
   "outputs": [],
   "source": [
    "class ODE(ABC):\n",
    "    @abstractmethod\n",
    "    def drift_coefficient(self, xt: torch.Tensor, t: torch.Tensor) -> torch.Tensor:\n",
    "        \"\"\"\n",
    "        Returns the drift coefficient of the ODE.\n",
    "        Args:\n",
    "            - xt: state at time t, shape (batch_size, dim)\n",
    "            - t: time, shape ()\n",
    "        Returns:\n",
    "            - drift_coefficient: shape (batch_size, dim)\n",
    "        \"\"\"\n",
    "        pass\n",
    "\n",
    "class SDE(ABC):\n",
    "    @abstractmethod\n",
    "    def drift_coefficient(self, xt: torch.Tensor, t: torch.Tensor) -> torch.Tensor:\n",
    "        # Args and Returns are the same as the previous\n",
    "        pass\n",
    "\n",
    "    @abstractmethod\n",
    "    def diffusion_coefficient(self, xt: torch.Tensor, t: torch.Tensor) -> torch.Tensor:\n",
    "        # Args are the same as the previous, and the Returns has the same dtype\n",
    "        pass\n",
    "    "
   ]
  },
  {
   "cell_type": "code",
   "execution_count": 65,
   "id": "5448179a-64e6-430f-b59e-abae0c6b1eb5",
   "metadata": {},
   "outputs": [],
   "source": [
    "class Simulator(ABC):\n",
    "    @abstractmethod\n",
    "    def step(self, xt: torch.Tensor, t: torch.Tensor, dt: torch.Tensor):\n",
    "        \"\"\"\n",
    "        Takes one simulation step\n",
    "        Args:\n",
    "            - xt: state at time t, shape (batch_size, dim)\n",
    "            - t: time, shape ()\n",
    "            - dt: time, shape ()\n",
    "        Returns:\n",
    "            - nxt: state at time t + dt\n",
    "        \"\"\"\n",
    "        pass\n",
    "\n",
    "    @torch.no_grad() # forbidden the autodif to save space\n",
    "    def simulate(self, x: torch.Tensor, ts: torch.tensor):\n",
    "        \"\"\"\n",
    "        Simulates using the discretization gives by ts\n",
    "        Args:\n",
    "            - x_init: initial state at time ts[0], shape (batch_size, dim)\n",
    "            - ts: timesteps, shape (nts,)\n",
    "        Returns:\n",
    "            - x_final: final state at time ts[-1], shape (batch_size, dim)\n",
    "        \"\"\"\n",
    "        for t_index in range(len(ts) - 1):\n",
    "            t = ts[t_index]\n",
    "            h = ts[t_index + 1] - ts[t_index]\n",
    "            x = self.step(x, t, h)\n",
    "        return x\n",
    "\n",
    "    @torch.no_grad()\n",
    "    def simulate_with_trajectory(self, x: torch.Tensor, ts: torch.Tensor):\n",
    "        \"\"\"\n",
    "        Simulates using the discretization gives by ts\n",
    "        Args:\n",
    "            - x_init: initial state at time ts[0], shape (batch_size, dim)\n",
    "            - ts: timesteps, shape (num_timesteps,)\n",
    "        Returns:\n",
    "            - xs: trajectory of xts over ts, shape (batch_size, num_timesteps, dim)\n",
    "        \"\"\"\n",
    "        xs = [x.clone]\n",
    "        for t_index in tqdm(range(len(ts) - 1)):\n",
    "            t = ts[t_index]\n",
    "            h = ts[t_index + 1] - ts[t_index]\n",
    "            x = self.step(x, t, h)\n",
    "            xs.append(x.clone())\n",
    "        return torch.stack(xs, dim = 1)\n",
    "            "
   ]
  },
  {
   "cell_type": "code",
   "execution_count": 71,
   "id": "f039548e-c654-4f86-8122-4c35a00091a2",
   "metadata": {},
   "outputs": [],
   "source": [
    "class EulerMethod(Simulator):\n",
    "    def __init__(self, ode: ODE):\n",
    "        self.ode = ode\n",
    "\n",
    "    def step(self, xt: torch.Tensor, t: torch.Tensor, h: torch.Tensor):\n",
    "        drift_c = self.ode.drift_coefficient(xt, t)\n",
    "        x = xt + h * drift_c\n",
    "        return x"
   ]
  },
  {
   "cell_type": "code",
   "execution_count": 75,
   "id": "5516a7fd-30f3-4dff-a18d-664a23619f89",
   "metadata": {},
   "outputs": [],
   "source": [
    "class EulerMaruyamaSimulator(Simulator):\n",
    "    def __init__(self, sde: SDE):\n",
    "        self.sde = sde\n",
    "\n",
    "    def step(self, xt: torch.Tensor, t: torch.Tensor, h: torch.Tensor):\n",
    "        drift_c = self.sde.drift_coefficient(xt, t)\n",
    "        diffusion_c = self.sde.diffusion_coefficient(xt, t)\n",
    "        noise = torch.randn_like(xt)\n",
    "        x = xt + drift_c * h + diffusion_c * torch.sqrt(h) * noise\n",
    "        return x"
   ]
  },
  {
   "cell_type": "code",
   "execution_count": null,
   "id": "ab3d08bd-840d-41f9-bd77-6322582f1c00",
   "metadata": {},
   "outputs": [],
   "source": []
  }
 ],
 "metadata": {
  "kernelspec": {
   "display_name": "Python 3 (ipykernel)",
   "language": "python",
   "name": "python3"
  },
  "language_info": {
   "codemirror_mode": {
    "name": "ipython",
    "version": 3
   },
   "file_extension": ".py",
   "mimetype": "text/x-python",
   "name": "python",
   "nbconvert_exporter": "python",
   "pygments_lexer": "ipython3",
   "version": "3.12.7"
  }
 },
 "nbformat": 4,
 "nbformat_minor": 5
}

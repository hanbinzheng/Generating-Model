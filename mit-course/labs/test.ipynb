{
 "cells": [
  {
   "cell_type": "code",
   "execution_count": 1,
   "id": "03ed4a07",
   "metadata": {},
   "outputs": [
    {
     "name": "stdout",
     "output_type": "stream",
     "text": [
      "Trainer init start\n",
      "Trainer init finish\n"
     ]
    }
   ],
   "source": [
    "from abc import ABC, abstractmethod\n",
    "import torch\n",
    "from torch import nn\n",
    "\n",
    "class Trainer(ABC):\n",
    "    def __init__(self, model: nn.Module):\n",
    "        print(\"Trainer init start\")\n",
    "        super().__init__()\n",
    "        print(\"Trainer init finish\")\n",
    "        self.model = model\n",
    "\n",
    "    @abstractmethod\n",
    "    def get_train_loss(self, **kwargs) -> torch.Tensor:\n",
    "        pass\n",
    "\n",
    "class DummyTrainer(Trainer):\n",
    "    def __init__(self, model):\n",
    "        super().__init__(model)\n",
    "\n",
    "    def get_train_loss(self, **kwargs):\n",
    "        return torch.tensor(0.0)\n",
    "\n",
    "model = nn.Linear(1, 1)\n",
    "trainer = DummyTrainer(model)"
   ]
  },
  {
   "cell_type": "code",
   "execution_count": null,
   "id": "72af12ae",
   "metadata": {},
   "outputs": [],
   "source": []
  }
 ],
 "metadata": {
  "kernelspec": {
   "display_name": ".venv",
   "language": "python",
   "name": "python3"
  },
  "language_info": {
   "codemirror_mode": {
    "name": "ipython",
    "version": 3
   },
   "file_extension": ".py",
   "mimetype": "text/x-python",
   "name": "python",
   "nbconvert_exporter": "python",
   "pygments_lexer": "ipython3",
   "version": "3.12.3"
  }
 },
 "nbformat": 4,
 "nbformat_minor": 5
}
